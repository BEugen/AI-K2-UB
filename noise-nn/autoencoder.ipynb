{
 "cells": [
  {
   "cell_type": "code",
   "execution_count": null,
   "metadata": {
    "collapsed": true
   },
   "outputs": [],
   "source": [
    "import keras\n",
    "from matplotlib import pyplot as plt\n",
    "import numpy as np\n",
    "import gzip\n",
    "%matplotlib inline\n",
    "from keras.layers import Input,Conv2D,MaxPooling2D,UpSampling2D\n",
    "from keras.models import Model\n",
    "from keras.optimizers import RMSprop"
   ]
  },
  {
   "cell_type": "code",
   "execution_count": null,
   "metadata": {},
   "outputs": [],
   "source": [
    "def noisy(image):\n",
    "    row,col= image.shape\n",
    "    mean = 0\n",
    "    var = 0.1\n",
    "    sigma = var**0.5\n",
    "    gauss = np.random.normal(mean,sigma,(row,col))\n",
    "    gauss = gauss.reshape(row,col)\n",
    "    noisy = image + gauss\n",
    "    return noisy"
   ]
  },
  {
   "cell_type": "code",
   "execution_count": null,
   "metadata": {},
   "outputs": [],
   "source": [
    "def s_p(image):\n",
    "    row,col = image.shape\n",
    "    s_vs_p = 0.5\n",
    "    amount = 0.05\n",
    "    out = np.copy(image)\n",
    "      # Salt mode\n",
    "    num_salt = np.ceil(amount * image.size * s_vs_p)\n",
    "    coords = [np.random.randint(0, i - 1, int(num_salt)) for i in image.shape]\n",
    "    out[coords] = 1\n",
    "\n",
    "      # Pepper mode\n",
    "    num_pepper = np.ceil(amount* image.size * (1. - s_vs_p))\n",
    "    coords = [np.random.randint(0, i - 1, int(num_pepper)) for i in image.shape]\n",
    "    out[coords] = 0\n",
    "    return out"
   ]
  },
  {
   "cell_type": "code",
   "execution_count": null,
   "metadata": {},
   "outputs": [],
   "source": [
    "\n",
    "def load_image(path):\n",
    "    list_file = os.listdir(path)\n",
    "    random.seed(40)\n",
    "    random.shuffle(list_file)\n",
    "    x_data = []\n",
    "    y_data = []\n",
    "    for file in list_file:\n",
    "        im = cv2.resize(cv2.imread(path + file,  cv2.IMREAD_GRAYSCALE), (224, 224))\n",
    "        im = img_to_array(im)\n",
    "        x_data.append(im)\n",
    "    x_data = np.array(x_data, dtype='float')/255.0\n",
    "    y_data = np.array(noisy(x_data))\n",
    "    return x_data, y_data"
   ]
  },
  {
   "cell_type": "code",
   "execution_count": null,
   "metadata": {},
   "outputs": [],
   "source": [
    "def autoencoder():\n",
    "    #encoder\n",
    "    model = Sequential()\n",
    "    model.add(Conv2D(32, (3, 3), padding='same', input_shape=(224, 224, 1)))\n",
    "    model.add(Activation(\"relu\"))\n",
    "    model.add(MaxPooling2D(pool_size=(2, 2)))\n",
    "    model.add(Conv2D(64, (3, 3), padding='same'))\n",
    "    model.add(Activation(\"relu\"))\n",
    "    model.add(MaxPooling2D(pool_size=(2, 2)))\n",
    "    model.add(Conv2D(128, (3, 3), padding='same'))\n",
    "    model.add(Activation(\"relu\"))\n",
    "\n",
    "    #decoder\n",
    "    model.add(Conv2D(128, (3, 3), padding='same'))\n",
    "    model.add(Activation(\"relu\"))\n",
    "    model.add(UpSampling2D((2,2)))\n",
    "    model.add(Conv2D(64, (3, 3), padding='same'))\n",
    "    model.add(Activation(\"relu\"))\n",
    "    model.add(UpSampling2D((2,2)))\n",
    "    model.add(Conv2D(1, (3, 3), padding='same'))\n",
    "    model.add(Activation(\"sigmoid\"))\n",
    "    return model"
   ]
  },
  {
   "cell_type": "code",
   "execution_count": null,
   "metadata": {},
   "outputs": [],
   "source": [
    "IMG_PATH_TRAIN = '../Imagetrain/train/'\n",
    "IMG_PATH_TEST = '../Imagetrain/test/'\n",
    "model = autoencoder()\n",
    "model.compile(loss='mean_squared_error', optimizer = RMSprop())\n",
    "X_train, X_train_noise = load_image(IMG_PATH_TRAIN)\n",
    "X_test, X_test_noise = load_image(IMG_PATH_TEST)\n",
    "log = callbacks.CSVLogger('result/log.csv')\n",
    "tb = callbacks.TensorBoard(log_dir='result/tensorboard-logs',\n",
    "                         batch_size=128)\n",
    "checkpoint = callbacks.ModelCheckpoint('result/weights-{epoch:02d}.h5', monitor='val_acc',\n",
    "                                           save_best_only=True, save_weights_only=True, verbose=1)\n",
    "history = model.fit(X_train, X_train_noise_train, batch_size=128, epochs=20, verbose=1,\n",
    "                        validation_data=(X_test, X_test_noise),\n",
    "                    validation_split=0.25, callbacks=[log, tb, checkpoint])\n",
    "score = model.evaluate(X_test, Y_test, verbose=1)\n",
    "print('Test score:', score[0])\n",
    "print('Test accuracy', score[1])"
   ]
  }
 ],
 "metadata": {
  "kernelspec": {
   "display_name": "Python 2",
   "language": "python",
   "name": "python2"
  },
  "language_info": {
   "codemirror_mode": {
    "name": "ipython",
    "version": 2
   },
   "file_extension": ".py",
   "mimetype": "text/x-python",
   "name": "python",
   "nbconvert_exporter": "python",
   "pygments_lexer": "ipython2",
   "version": "2.7.6"
  }
 },
 "nbformat": 4,
 "nbformat_minor": 0
}
